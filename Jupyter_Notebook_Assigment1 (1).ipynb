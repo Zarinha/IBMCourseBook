{
 "cells": [
  {
   "cell_type": "markdown",
   "metadata": {},
   "source": [
    "<center>\n",
    "    <img src=\"https://cf-courses-data.s3.us.cloud-object-storage.appdomain.cloud/IBMDeveloperSkillsNetwork-DS0105EN-SkillsNetwork/labs/Module2/images/SN_web_lightmode.png\" width=\"300\" alt=\"cognitiveclass.ai logo\">\n",
    "</center>\n"
   ]
  },
  {
   "cell_type": "markdown",
   "metadata": {},
   "source": [
    "#### Add your code below following the instructions given in the course\n"
   ]
  },
  {
   "cell_type": "markdown",
   "metadata": {
    "tags": []
   },
   "source": [
    "# NOTEBOOK"
   ]
  },
  {
   "cell_type": "markdown",
   "metadata": {},
   "source": [
    "## Introduction\n",
    "\n",
    "Data Science: An interdisciplinary field that combines mathematics, statistics, programming, and advanced analytics to extract actionable insights from data.\n",
    "It involves using scientific methods, algorithms, and systems to uncover patterns, trends, and valuable information hidden within structured and unstructured data."
   ]
  },
  {
   "cell_type": "markdown",
   "metadata": {},
   "source": [
    "### Data Science Languages\n",
    "\n",
    "Python: Widely used for data science due to its readability, extensive libraries, and community support.\n",
    "\n",
    "R: Popular for statistical analysis, data visualization, and machine learning.\n",
    "\n",
    "SQL: Essential for querying and managing databases.\n",
    "\n",
    "Scala: Gaining traction for big data processing using Apache Spark."
   ]
  },
  {
   "cell_type": "markdown",
   "metadata": {
    "tags": []
   },
   "source": [
    "### Data Science Libraries\n",
    "\n",
    " In general, data science libraries are collections of pre-built functions, modules, and tools that facilitate various data-related tasks within the field of data science. These libraries are designed to simplify complex operations, enhance productivity, and enable efficient data manipulation, analysis, visualization, and modeling.\n",
    " \n",
    "#### Examples:\n",
    " \n",
    "NumPy: Provides support for large, multi-dimensional arrays and matrices.\n",
    "\n",
    "Pandas: Used for data manipulation, cleaning, and analysis.\n",
    "\n",
    "Matplotlib and Seaborn: Visualization libraries for creating charts and plots.\n",
    "\n",
    "Scikit-learn: Machine learning library with various algorithms."
   ]
  },
  {
   "cell_type": "markdown",
   "metadata": {},
   "source": [
    "## Data Science Tools\n",
    "\n",
    "| Data Science Tool | Function |\n",
    "| -------------| ------ |\n",
    "| Jupyter Notebook | Interactive environment for data exploration and analysis |\n",
    "| Anaconda | Distribution that includes Python, Jupyter, and essential data science libraries |\n",
    "| Tableau | Data visualization tool for creating interactive dashboards |\n",
    "| Apache Spark | Distributed computing framework for big data processing |"
   ]
  },
  {
   "cell_type": "markdown",
   "metadata": {
    "tags": []
   },
   "source": [
    "## Introducing Arithmetic Expression\n",
    "\n",
    "Let’s explore the fascinating world of arithmetic expressions. These expressions involve mathematical operations and symbols to represent calculations. Here are some key components:\n",
    "\n",
    "### Operators:\n",
    "**Addition (+):** Combines two numbers.\n",
    "\n",
    "**Subtraction (-):** Finds the difference between two numbers.\n",
    "\n",
    "**Multiplication (*)**: Multiplies two numbers.\n",
    "\n",
    "**Division (/):** Divides one number by another.\n",
    "\n",
    "**Exponentiation (^ or ):** Raises a base number to a power (e.g., 2^3 = 8).\n",
    "\n",
    "**Modulus (%):** Computes the remainder after division (e.g., 7 % 3 = 1).\n",
    "\n",
    "#### Order of Operations (PEMDAS):\n",
    "Parentheses\n",
    "\n",
    "Exponents\n",
    "\n",
    "Multiplication and Division (left to right)\n",
    "\n",
    "Addition and Subtraction (left to right)"
   ]
  },
  {
   "cell_type": "markdown",
   "metadata": {},
   "source": [
    "### Examples"
   ]
  },
  {
   "cell_type": "code",
   "execution_count": 2,
   "metadata": {
    "tags": []
   },
   "outputs": [
    {
     "data": {
      "text/plain": [
       "2"
      ]
     },
     "execution_count": 2,
     "metadata": {},
     "output_type": "execute_result"
    }
   ],
   "source": [
    "1 + 1"
   ]
  },
  {
   "cell_type": "code",
   "execution_count": 3,
   "metadata": {
    "tags": []
   },
   "outputs": [
    {
     "data": {
      "text/plain": [
       "4.0"
      ]
     },
     "execution_count": 3,
     "metadata": {},
     "output_type": "execute_result"
    }
   ],
   "source": [
    "12 / 3"
   ]
  },
  {
   "cell_type": "code",
   "execution_count": 4,
   "metadata": {
    "tags": []
   },
   "outputs": [
    {
     "data": {
      "text/plain": [
       "4"
      ]
     },
     "execution_count": 4,
     "metadata": {},
     "output_type": "execute_result"
    }
   ],
   "source": [
    "2 * 2"
   ]
  },
  {
   "cell_type": "markdown",
   "metadata": {},
   "source": [
    "## Convert minutes to hours"
   ]
  },
  {
   "cell_type": "code",
   "execution_count": 5,
   "metadata": {
    "tags": []
   },
   "outputs": [
    {
     "name": "stdout",
     "output_type": "stream",
     "text": [
      "1:00\n"
     ]
    }
   ],
   "source": [
    "total_minutes = 60\n",
    "\n",
    "# Get hours with floor division\n",
    "hours = total_minutes // 60\n",
    "\n",
    "# Create time as a string\n",
    "time = \"{}:00\".format(hours)\n",
    "\n",
    "print(time)"
   ]
  },
  {
   "cell_type": "markdown",
   "metadata": {},
   "source": [
    "## Objectives\n",
    "\n",
    "**Data science** is an interdisciplinary field that combines elements of **mathematics**, **statistics**, **computer science**, and **domain expertise**. Its primary goal is to **analyze large volumes of structured and unstructured data** to uncover patterns, trends, and relationships. Let's delve deeper into the objectives of data science:\n",
    "\n",
    "**Extracting Insights**:\n",
    "   - Data science aims to **extract knowledge and insights** from data.\n",
    "   - By analyzing data, we can make informed decisions, solve complex problems, and create predictive models.\n",
    "\n",
    "**Optimizing Business Processes**:\n",
    "   - Data scientists explore, sort, and analyze **megadata** from various sources.\n",
    "   - The objective is to **optimize business processes** by leveraging data-driven insights.\n",
    "\n",
    "**Decision Support**:\n",
    "   - Data science provides valuable information to guide decision-making.\n",
    "   - Whether it's strategic planning or operational choices, data-driven insights play a crucial role.\n",
    "\n",
    "**Predictive Modeling**:\n",
    "   - Building predictive models is a key objective.\n",
    "   - These models help forecast future trends, customer behavior, and outcomes.\n",
    "\n",
    "Remember, data science empowers organizations to harness the power of data for better outcomes! 📊🔍🚀"
   ]
  },
  {
   "cell_type": "markdown",
   "metadata": {},
   "source": [
    "## Author’s name"
   ]
  },
  {
   "cell_type": "markdown",
   "metadata": {},
   "source": [
    "#### Jessica Zaramelo"
   ]
  },
  {
   "cell_type": "code",
   "execution_count": null,
   "metadata": {},
   "outputs": [],
   "source": []
  }
 ],
 "metadata": {
  "kernelspec": {
   "display_name": "Python",
   "language": "python",
   "name": "conda-env-python-py"
  },
  "language_info": {
   "codemirror_mode": {
    "name": "ipython",
    "version": 3
   },
   "file_extension": ".py",
   "mimetype": "text/x-python",
   "name": "python",
   "nbconvert_exporter": "python",
   "pygments_lexer": "ipython3",
   "version": "3.7.12"
  }
 },
 "nbformat": 4,
 "nbformat_minor": 4
}
